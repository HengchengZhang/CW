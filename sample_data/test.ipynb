{
 "cells": [
  {
   "cell_type": "code",
   "execution_count": 2,
   "metadata": {},
   "outputs": [],
   "source": [
    "import datetime\n",
    "import random"
   ]
  },
  {
   "cell_type": "code",
   "execution_count": 3,
   "metadata": {},
   "outputs": [
    {
     "data": {
      "text/plain": [
       "'12-10-2023'"
      ]
     },
     "execution_count": 3,
     "metadata": {},
     "output_type": "execute_result"
    }
   ],
   "source": [
    "def random_date(start, end):\n",
    "    return start + datetime.timedelta(\n",
    "        seconds=random.randint(0, int((end - start).total_seconds())),\n",
    "    )\n",
    "\n",
    "start_date = datetime.datetime.strptime('2023-01-01', '%Y-%m-%d')\n",
    "end_date = datetime.datetime.strptime('2023-12-31', '%Y-%m-%d')\n",
    "check_in_date = random_date(start_date, end_date)\n",
    "check_out_date = (check_in_date + datetime.timedelta(days=random.randint(1,15))).strftime('%d-%m-%Y')\n",
    "check_out_date"
   ]
  },
  {
   "cell_type": "code",
   "execution_count": 4,
   "metadata": {},
   "outputs": [
    {
     "data": {
      "text/plain": [
       "'2023-10-06'"
      ]
     },
     "execution_count": 4,
     "metadata": {},
     "output_type": "execute_result"
    }
   ],
   "source": [
    "check_in_date.strftime('%Y-%m-%d')"
   ]
  },
  {
   "cell_type": "code",
   "execution_count": 5,
   "metadata": {},
   "outputs": [
    {
     "data": {
      "text/plain": [
       "8"
      ]
     },
     "execution_count": 5,
     "metadata": {},
     "output_type": "execute_result"
    }
   ],
   "source": [
    "random.randint(1, 15) // 1"
   ]
  },
  {
   "cell_type": "code",
   "execution_count": 42,
   "metadata": {},
   "outputs": [],
   "source": [
    "import pandas as pd\n",
    "\n",
    "def convert_psv_to_csv(psv_file_path, csv_file_path):\n",
    "    # Read the .psv file into a DataFrame\n",
    "    df = pd.read_csv(psv_file_path, delimiter='|')\n",
    "    \n",
    "    # Write the DataFrame to a .csv file\n",
    "    df.to_csv(csv_file_path, index=False)\n",
    "# Example usage\n",
    "psv_file_path = '/Users/x_x/Desktop/g-naf_may24_allstates_gda94_psv_1015/G-NAF/G-NAF MAY 2024/Authority Code/Authority_Code_FLAT_TYPE_AUT_psv.psv'\n",
    "csv_file_path = '1.csv'\n",
    "convert_psv_to_csv(psv_file_path, csv_file_path)\n"
   ]
  },
  {
   "cell_type": "code",
   "execution_count": 55,
   "metadata": {},
   "outputs": [],
   "source": [
    "import pandas as pd\n",
    "df = pd.read_csv('au_postcode.csv')\n",
    "a = df[['postcode', 'place_name', 'state_code']].values"
   ]
  },
  {
   "cell_type": "code",
   "execution_count": 60,
   "metadata": {},
   "outputs": [],
   "source": [
    "a = a[0].tolist()"
   ]
  },
  {
   "cell_type": "code",
   "execution_count": 63,
   "metadata": {},
   "outputs": [
    {
     "data": {
      "text/plain": [
       "'200, Australian National University, ACT'"
      ]
     },
     "execution_count": 63,
     "metadata": {},
     "output_type": "execute_result"
    }
   ],
   "source": [
    "f\"{a[0]}, {a[1]}, {a[2]}\""
   ]
  }
 ],
 "metadata": {
  "kernelspec": {
   "display_name": "Python 3",
   "language": "python",
   "name": "python3"
  },
  "language_info": {
   "codemirror_mode": {
    "name": "ipython",
    "version": 3
   },
   "file_extension": ".py",
   "mimetype": "text/x-python",
   "name": "python",
   "nbconvert_exporter": "python",
   "pygments_lexer": "ipython3",
   "version": "3.10.12"
  },
  "orig_nbformat": 4
 },
 "nbformat": 4,
 "nbformat_minor": 2
}
