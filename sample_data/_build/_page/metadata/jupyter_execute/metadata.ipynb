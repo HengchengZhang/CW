{
 "cells": [
  {
   "cell_type": "code",
   "execution_count": 1,
   "id": "b793ac05",
   "metadata": {},
   "outputs": [],
   "source": [
    "import pandas as pd\n"
   ]
  },
  {
   "cell_type": "code",
   "execution_count": 2,
   "id": "a8ad7ba2",
   "metadata": {},
   "outputs": [],
   "source": [
    "data = pd.read_csv('sample_3m.csv')"
   ]
  },
  {
   "cell_type": "code",
   "execution_count": 3,
   "id": "60dd7cd8",
   "metadata": {},
   "outputs": [
    {
     "name": "stdout",
     "output_type": "stream",
     "text": [
      "<class 'pandas.core.frame.DataFrame'>\n",
      "RangeIndex: 3000000 entries, 0 to 2999999\n",
      "Data columns (total 30 columns):\n",
      " #   Column               Dtype  \n",
      "---  ------               -----  \n",
      " 0   property_id          int64  \n",
      " 1   property_capacity    int64  \n",
      " 2   property_address     object \n",
      " 3   booking_id           int64  \n",
      " 4   check_in_date        object \n",
      " 5   check_out_date       object \n",
      " 6   base_fee             int64  \n",
      " 7   service_fee          float64\n",
      " 8   cleaning_fee         float64\n",
      " 9   gst                  float64\n",
      " 10  total_price          float64\n",
      " 11  owner_id             int64  \n",
      " 12  abn                  object \n",
      " 13  tin                  float64\n",
      " 14  dob                  object \n",
      " 15  contact_number       int64  \n",
      " 16  email                object \n",
      " 17  rating               int64  \n",
      " 18  owner_location       object \n",
      " 19  owner_address        object \n",
      " 20  bank_account_name    object \n",
      " 21  bsb                  float64\n",
      " 22  bank_account_number  float64\n",
      " 23  bank_name            object \n",
      " 24  paypal_id            object \n",
      " 25  iban                 object \n",
      " 26  swift_code           object \n",
      " 27  order_status         object \n",
      " 28  final_price          float64\n",
      " 29  final_gst            float64\n",
      "dtypes: float64(9), int64(7), object(14)\n",
      "memory usage: 686.6+ MB\n"
     ]
    }
   ],
   "source": [
    "data.info()"
   ]
  },
  {
   "cell_type": "markdown",
   "id": "63ad2e48",
   "metadata": {},
   "source": [
    "## Property Information\n",
    "\n",
    "**property_id**: The idendification number for each regested property. (Mock)\n",
    "\n",
    "**property_capacity**: What kind of group this property can hold. (Mock)\n",
    "\n",
    "**property_address**: Real world postcode and its corresponding state and name.\n",
    "\n",
    "## Order Information\n",
    "\n",
    "**booking_id**: Non-unique booking id, this can be made unique or non-unique for test purpose.\n",
    "\n",
    "**check_in_date**: Date between 01/01/23 - 30/06/23.\n",
    "\n",
    "**check_out_date**: Date after check_in_date with 1-15 days more.\n",
    "\n",
    "**base_fee**: Random number.\n",
    "\n",
    "**service_fee**: 15% based on base_fee.\n",
    "\n",
    "**cleaning_fee**: Random proportion based on base_fee.\n",
    "\n",
    "**gst**: 10% based on base+service+cleaning_fee. \n",
    "\n",
    "**total_price**: gst * 110%.\n",
    "\n",
    "## Owner Information\n",
    "\n",
    "**owner_id**: Non-unique booking id, this can be made unique or non-unique for test purpose, 4-5 digits.\n",
    "\n",
    "**abn**: 11 digits number in ABN's format, 80% chance of having this.\n",
    "\n",
    "**tin**: 9 digits number if ABN is missing.\n",
    "\n",
    "**dob**: Random date between 01/01/1940 - 31/12/1999.\n",
    "\n",
    "**contact_number**: All contact_numbers are in Aussie style (+614*********).\n",
    "\n",
    "**email**: first_name.last_name@gmail.com.\n",
    "\n",
    "**rating**: Integer between 0 - 10.\n",
    "\n",
    "### 80% chance inside Australia\n",
    "* **owner_location**: Australia in this case.\n",
    "* **owner_address**: Real world postcode and its corresponding state and name.\n",
    "* **bank_account_name**: Fake name.\n",
    "* **bsb**: 062***.\n",
    "* **bank_account_number**: 1*** ****.\n",
    "* **bank_name**: Commonwealth Bank of Australia in this case.\n",
    "* **paypal_id**: 45% chance of having first_name.last_name@paypal.com, 45% having contact_number@paypal.com, 10% having empty.\n",
    "\n",
    "### 20% chance in New Zealand\n",
    "* **owner_location**: New Zealand in this case.\n",
    "* **owner_address**: Auckland, NZ in this case.\n",
    "* **bank_name**: ANZ Bank in this case.\n",
    "* **iban**: AU********.\n",
    "* **swift_code**: CTBAAU2S in this case.\n",
    "  \n",
    "## Order Status\n",
    "\n",
    "**order_status**: 80% Completed, 8% Cancelled, 8% Refunded, 4% Parcially Refunded.\n",
    "\n",
    "**final_price**: Completed: 100% totoal_price, Cancelled/Refunded: 0% totoal_price, Parcially Refunded: 50%-90% total_price.\n",
    "\n",
    "**final_gst**: final_price / 11."
   ]
  }
 ],
 "metadata": {
  "jupytext": {
   "text_representation": {
    "extension": ".md",
    "format_name": "myst",
    "format_version": 0.13,
    "jupytext_version": "1.14.5"
   }
  },
  "kernelspec": {
   "display_name": "Python 3 (ipykernel)",
   "language": "python",
   "name": "python3"
  },
  "language_info": {
   "codemirror_mode": {
    "name": "ipython",
    "version": 3
   },
   "file_extension": ".py",
   "mimetype": "text/x-python",
   "name": "python",
   "nbconvert_exporter": "python",
   "pygments_lexer": "ipython3",
   "version": "3.10.9"
  },
  "source_map": [
   14,
   19,
   23,
   25
  ]
 },
 "nbformat": 4,
 "nbformat_minor": 5
}